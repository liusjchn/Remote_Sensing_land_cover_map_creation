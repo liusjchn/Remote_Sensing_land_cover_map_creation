{
 "cells": [
  {
   "cell_type": "code",
   "execution_count": 1,
   "metadata": {
    "collapsed": true
   },
   "outputs": [],
   "source": [
    "from osgeo import gdal\n",
    "from pyproj import Proj, transform"
   ]
  },
  {
   "cell_type": "code",
   "execution_count": 29,
   "metadata": {},
   "outputs": [
    {
     "name": "stdout",
     "output_type": "stream",
     "text": [
      "ulx:  16181130.0\n",
      "xres:  30.0\n",
      "xskew:  0.0\n",
      "uly:  -4533570.0\n",
      "yres:  -30.0\n",
      "yskew:  0.0\n",
      "src.RasterXSize:  513\n",
      "src.RasterYSize:  312\n",
      "lrx:  16196520.0\n",
      "lry:  -4542930.0\n",
      "cordinates 1 (16181130.0, -4533570.0)\n",
      "cordinates 2 (16181130.0, -4542930.0)\n",
      "cordinates 3 (16196520.0, -4542930.0)\n",
      "cordinates 4 (16196520.0, -4533570.0)\n",
      "cordinates 5 (16181130.0, -4533570.0)\n",
      "145.3575639332491 -37.674677189461285\n",
      "145.49581465547513 -37.74119796009872\n",
      "llx, lly:  147.10892839432137 -38.07468728042165\n",
      "urx, ury:  147.26507355700704 -37.96882665345103\n",
      "cordinates 1 (147.10892839432137, -37.96882665345103)\n",
      "cordinates 2 (147.10892839432137, -38.07468728042165)\n",
      "cordinates 3 (147.26507355700704, -37.96882665345103)\n",
      "cordinates 4 (147.26507355700704, -38.07468728042165)\n",
      "cordinates 5 (147.10892839432137, -37.96882665345103)\n"
     ]
    }
   ],
   "source": [
    "image_path = './earthengine_images/LC80920862016132.tif'\n",
    "src = gdal.Open(image_path)\n",
    "ulx, xres, xskew, uly, yskew, yres  = src.GetGeoTransform()\n",
    "print(\"ulx: \", ulx)\n",
    "print(\"xres: \", xres)\n",
    "print(\"xskew: \", xskew)\n",
    "print(\"uly: \", uly)\n",
    "print(\"yres: \", yres)\n",
    "print(\"yskew: \", yskew)\n",
    "print(\"src.RasterXSize: \", src.RasterXSize)\n",
    "print(\"src.RasterYSize: \", src.RasterYSize)\n",
    "\n",
    "# Getting the bottom right cordinates\n",
    "lrx = ulx + (src.RasterXSize * xres)\n",
    "lry = uly + (src.RasterYSize * yres)\n",
    "print(\"lrx: \", lrx)\n",
    "print(\"lry: \", lry)\n",
    "\n",
    "print(\"cordinates 1\", (ulx,uly))\n",
    "print(\"cordinates 2\", (ulx,lry))\n",
    "print(\"cordinates 3\", (lrx,lry))\n",
    "print(\"cordinates 4\", (lrx,uly))\n",
    "print(\"cordinates 5\", (ulx,uly))\n",
    "\n",
    "# Performing transformation \n",
    "inProj = Proj(init='epsg:3857')\n",
    "outProj = Proj(init='epsg:4326')\n",
    "#x1,y1 = -11705274.6374,4826473.6922\n",
    "\n",
    "llx, lly = 16376091, -4589982\n",
    "urx, ury = 16393473, -4575023\n",
    "x1,y1 = transform(inProj,outProj,ulx,uly)\n",
    "x2,y2 = transform(inProj,outProj,lrx,lry)\n",
    "\n",
    "newx, newy = transform(inProj,outProj,llx, lly)\n",
    "new2x, new2y = transform(inProj,outProj,urx, ury)\n",
    "\n",
    "# to see coordinates in Google earth engine\n",
    "print(x1,y1)\n",
    "print(x2,y2)\n",
    "\n",
    "# to see coordinate in Google earth 2\n",
    "\n",
    "print(\"llx, lly: \", newx, newy)\n",
    "print(\"urx, ury: \", new2x, new2y)\n",
    "\n",
    "\n",
    "print(\"cordinates 1\", (newx,new2y))\n",
    "print(\"cordinates 2\", (newx, newy))\n",
    "print(\"cordinates 3\", (new2x, new2y))\n",
    "print(\"cordinates 4\", (new2x,newy))\n",
    "print(\"cordinates 5\", (newx,new2y))"
   ]
  },
  {
   "cell_type": "code",
   "execution_count": 11,
   "metadata": {},
   "outputs": [
    {
     "name": "stdout",
     "output_type": "stream",
     "text": [
      "Driver: GTiff/GeoTIFF\n",
      "Size is 513 x 312 x 3\n",
      "Projection is LOCAL_CS[\"WGS 84 / Pseudo-Mercator\",GEOGCS[\"WGS 84\",DATUM[\"unknown\",SPHEROID[\"unretrievable - using WGS84\",6378137,298.257223563]],PRIMEM[\"Greenwich\",0],UNIT[\"degree\",0.0174532925199433]],AUTHORITY[\"EPSG\",\"3857\"],UNIT[\"metre\",1,AUTHORITY[\"EPSG\",\"9001\"]]]\n",
      "Origin = (16181130.0, -4533570.0)\n",
      "Pixel Size = (30.0, -30.0)\n"
     ]
    }
   ],
   "source": [
    "print(\"Driver: {}/{}\".format(src.GetDriver().ShortName,\n",
    "                             src.GetDriver().LongName))\n",
    "\n",
    "print(\"Size is {} x {} x {}\".format(src.RasterXSize,\n",
    "                                    src.RasterYSize,\n",
    "                                    src.RasterCount))\n",
    "print(\"Projection is {}\".format(src.GetProjection()))\n",
    "geotransform = src.GetGeoTransform()\n",
    "if geotransform:\n",
    "    print(\"Origin = ({}, {})\".format(geotransform[0], geotransform[3]))\n",
    "    print(\"Pixel Size = ({}, {})\".format(geotransform[1], geotransform[5]))\n"
   ]
  },
  {
   "cell_type": "code",
   "execution_count": null,
   "metadata": {
    "collapsed": true
   },
   "outputs": [],
   "source": []
  },
  {
   "cell_type": "code",
   "execution_count": 12,
   "metadata": {},
   "outputs": [
    {
     "name": "stdout",
     "output_type": "stream",
     "text": [
      "Band Type=Int16\n",
      "Min=1399.000, Max=5831.000\n"
     ]
    }
   ],
   "source": [
    "band = src.GetRasterBand(1)\n",
    "print(\"Band Type={}\".format(gdal.GetDataTypeName(band.DataType)))\n",
    "      \n",
    "min = band.GetMinimum()\n",
    "max = band.GetMaximum()\n",
    "if not min or not max:\n",
    "    (min,max) = band.ComputeRasterMinMax(True)\n",
    "print(\"Min={:.3f}, Max={:.3f}\".format(min,max))\n",
    "      \n",
    "if band.GetOverviewCount() > 0:\n",
    "    print(\"Band has {} overviews\".format(band.GetOverviewCount()))\n",
    "      \n",
    "if band.GetRasterColorTable():\n",
    "    print(\"Band has a color table with {} entries\".format(band.GetRasterColorTable().GetCount()))\n"
   ]
  },
  {
   "cell_type": "code",
   "execution_count": null,
   "metadata": {},
   "outputs": [],
   "source": []
  },
  {
   "cell_type": "code",
   "execution_count": null,
   "metadata": {},
   "outputs": [],
   "source": [
    "\n",
    "\n"
   ]
  },
  {
   "cell_type": "code",
   "execution_count": null,
   "metadata": {
    "collapsed": true
   },
   "outputs": [],
   "source": []
  },
  {
   "cell_type": "code",
   "execution_count": null,
   "metadata": {
    "collapsed": true
   },
   "outputs": [],
   "source": []
  },
  {
   "cell_type": "code",
   "execution_count": null,
   "metadata": {},
   "outputs": [],
   "source": []
  }
 ],
 "metadata": {
  "kernelspec": {
   "display_name": "Python 3",
   "language": "python",
   "name": "python3"
  },
  "language_info": {
   "codemirror_mode": {
    "name": "ipython",
    "version": 3
   },
   "file_extension": ".py",
   "mimetype": "text/x-python",
   "name": "python",
   "nbconvert_exporter": "python",
   "pygments_lexer": "ipython3",
   "version": "3.6.3"
  }
 },
 "nbformat": 4,
 "nbformat_minor": 2
}
