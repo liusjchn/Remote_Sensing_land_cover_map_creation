{
 "cells": [
  {
   "cell_type": "code",
   "execution_count": 1,
   "metadata": {
    "collapsed": true
   },
   "outputs": [],
   "source": [
    "import numpy as np\n",
    "import rasterio"
   ]
  },
  {
   "cell_type": "code",
   "execution_count": 5,
   "metadata": {},
   "outputs": [],
   "source": [
    "# Read raster bands directly to Numpy arrays.\n",
    "#\n",
    "with rasterio.open('./earthengine_images/LC80920862016132.tif') as src:\n",
    "    r, g, b = src.read()"
   ]
  },
  {
   "cell_type": "code",
   "execution_count": 7,
   "metadata": {},
   "outputs": [
    {
     "data": {
      "text/plain": [
       "<closed RasterReader name='./earthengine_images/LC80920862016132.tif' mode='r'>"
      ]
     },
     "execution_count": 7,
     "metadata": {},
     "output_type": "execute_result"
    }
   ],
   "source": [
    "src"
   ]
  },
  {
   "cell_type": "code",
   "execution_count": 8,
   "metadata": {
    "collapsed": true
   },
   "outputs": [],
   "source": [
    "# Combine arrays in place. Expecting that the sum will\n",
    "# temporarily exceed the 8-bit integer range, initialize it as\n",
    "# a 64-bit float (the numpy default) array. Adding other\n",
    "# arrays to it in-place converts those arrays \"up\" and\n",
    "# preserves the type of the total array.\n",
    "total = np.zeros(r.shape)\n",
    "for band in r, g, b:\n",
    "    total += band\n",
    "total /= 3"
   ]
  },
  {
   "cell_type": "code",
   "execution_count": 9,
   "metadata": {},
   "outputs": [
    {
     "data": {
      "text/plain": [
       "array([[ 2500.33333333,  2455.33333333,  2485.        , ...,\n",
       "         2189.        ,  2178.66666667,  2143.66666667],\n",
       "       [ 2374.        ,  2421.        ,  2516.66666667, ...,\n",
       "         2189.        ,  2178.66666667,  2143.66666667],\n",
       "       [ 2335.33333333,  2386.66666667,  2503.66666667, ...,\n",
       "         2073.        ,  2074.66666667,  2094.66666667],\n",
       "       ..., \n",
       "       [ 1050.66666667,  1040.        ,  1087.66666667, ...,\n",
       "         3399.66666667,  3314.66666667,  3313.66666667],\n",
       "       [ 1059.33333333,  1024.66666667,  1023.        , ...,\n",
       "         3301.66666667,  3261.33333333,  3351.        ],\n",
       "       [ 1001.33333333,   965.66666667,   899.66666667, ...,\n",
       "         3315.        ,  3337.        ,  3411.33333333]])"
      ]
     },
     "execution_count": 9,
     "metadata": {},
     "output_type": "execute_result"
    }
   ],
   "source": [
    "total"
   ]
  },
  {
   "cell_type": "code",
   "execution_count": 12,
   "metadata": {},
   "outputs": [
    {
     "name": "stdout",
     "output_type": "stream",
     "text": [
      "{'driver': 'GTiff', 'dtype': 'int16', 'nodata': None, 'width': 513, 'height': 312, 'count': 3, 'crs': CRS({'init': 'epsg:3857'}), 'transform': (16181130.0, 30.0, 0.0, -4533570.0, 0.0, -30.0), 'affine': Affine(30.0, 0.0, 16181130.0,\n",
      "       0.0, -30.0, -4533570.0), 'blockxsize': 256, 'blockysize': 256, 'tiled': True, 'compress': 'lzw', 'interleave': 'pixel'}\n",
      "{'driver': 'GTiff', 'dtype': 'uint8', 'nodata': None, 'width': 513, 'height': 312, 'count': 1, 'crs': CRS({'init': 'epsg:3857'}), 'transform': (16181130.0, 30.0, 0.0, -4533570.0, 0.0, -30.0), 'affine': Affine(30.0, 0.0, 16181130.0,\n",
      "       0.0, -30.0, -4533570.0), 'blockxsize': 256, 'blockysize': 256, 'tiled': True, 'compress': 'lzw', 'interleave': 'pixel'}\n"
     ]
    }
   ],
   "source": [
    "# Write the product as a raster band to a new 8-bit file. For\n",
    "# the new file's profile, we start with the meta attributes of\n",
    "# the source file, but then change the band count to 1, set the\n",
    "# dtype to uint8, and specify LZW compression.\n",
    "with rasterio.open('./earthengine_images/LC80920862016132.tif') as src:\n",
    "    profile = src.profile\n",
    "    print(profile)\n",
    "    profile.update(dtype=rasterio.uint8, count=1, compress='lzw')\n",
    "    print(profile)"
   ]
  },
  {
   "cell_type": "code",
   "execution_count": 15,
   "metadata": {
    "collapsed": true
   },
   "outputs": [],
   "source": [
    "import pandas as pd"
   ]
  },
  {
   "cell_type": "code",
   "execution_count": 16,
   "metadata": {},
   "outputs": [
    {
     "ename": "IndexError",
     "evalue": "single positional indexer is out-of-bounds",
     "output_type": "error",
     "traceback": [
      "\u001b[1;31m---------------------------------------------------------------------------\u001b[0m",
      "\u001b[1;31mIndexError\u001b[0m                                Traceback (most recent call last)",
      "\u001b[1;32m<ipython-input-16-86e23205a6c3>\u001b[0m in \u001b[0;36m<module>\u001b[1;34m()\u001b[0m\n\u001b[0;32m      1\u001b[0m \u001b[0mtable\u001b[0m \u001b[1;33m=\u001b[0m \u001b[0mpd\u001b[0m\u001b[1;33m.\u001b[0m\u001b[0mread_csv\u001b[0m\u001b[1;33m(\u001b[0m\u001b[1;34m\"./earthengine_tables/LC8_SR.csv\"\u001b[0m\u001b[1;33m)\u001b[0m\u001b[1;33m\u001b[0m\u001b[0m\n\u001b[0;32m      2\u001b[0m \u001b[0mtime_start\u001b[0m \u001b[1;33m=\u001b[0m \u001b[0mtable\u001b[0m\u001b[1;33m[\u001b[0m\u001b[1;33m[\u001b[0m\u001b[1;34m'system:index'\u001b[0m\u001b[1;33m,\u001b[0m \u001b[1;34m'system:time_start'\u001b[0m\u001b[1;33m]\u001b[0m\u001b[1;33m]\u001b[0m\u001b[1;33m\u001b[0m\u001b[0m\n\u001b[1;32m----> 3\u001b[1;33m \u001b[0mts\u001b[0m \u001b[1;33m=\u001b[0m \u001b[0mtime_start\u001b[0m\u001b[1;33m[\u001b[0m\u001b[0mtime_start\u001b[0m\u001b[1;33m[\u001b[0m\u001b[1;34m'system:index'\u001b[0m\u001b[1;33m]\u001b[0m \u001b[1;33m==\u001b[0m \u001b[1;34m'./earthengine_images/LC80920862016132.tif'\u001b[0m\u001b[1;33m.\u001b[0m\u001b[0msplit\u001b[0m\u001b[1;33m(\u001b[0m\u001b[1;34m'.'\u001b[0m\u001b[1;33m)\u001b[0m\u001b[1;33m[\u001b[0m\u001b[1;36m0\u001b[0m\u001b[1;33m]\u001b[0m\u001b[1;33m]\u001b[0m\u001b[1;33m[\u001b[0m\u001b[1;34m'system:time_start'\u001b[0m\u001b[1;33m]\u001b[0m\u001b[1;33m.\u001b[0m\u001b[0miloc\u001b[0m\u001b[1;33m[\u001b[0m\u001b[1;36m0\u001b[0m\u001b[1;33m]\u001b[0m\u001b[1;33m\u001b[0m\u001b[0m\n\u001b[0m",
      "\u001b[1;32mC:\\ProgramData\\Anaconda3\\lib\\site-packages\\pandas\\core\\indexing.py\u001b[0m in \u001b[0;36m__getitem__\u001b[1;34m(self, key)\u001b[0m\n\u001b[0;32m   1326\u001b[0m         \u001b[1;32melse\u001b[0m\u001b[1;33m:\u001b[0m\u001b[1;33m\u001b[0m\u001b[0m\n\u001b[0;32m   1327\u001b[0m             \u001b[0mkey\u001b[0m \u001b[1;33m=\u001b[0m \u001b[0mcom\u001b[0m\u001b[1;33m.\u001b[0m\u001b[0m_apply_if_callable\u001b[0m\u001b[1;33m(\u001b[0m\u001b[0mkey\u001b[0m\u001b[1;33m,\u001b[0m \u001b[0mself\u001b[0m\u001b[1;33m.\u001b[0m\u001b[0mobj\u001b[0m\u001b[1;33m)\u001b[0m\u001b[1;33m\u001b[0m\u001b[0m\n\u001b[1;32m-> 1328\u001b[1;33m             \u001b[1;32mreturn\u001b[0m \u001b[0mself\u001b[0m\u001b[1;33m.\u001b[0m\u001b[0m_getitem_axis\u001b[0m\u001b[1;33m(\u001b[0m\u001b[0mkey\u001b[0m\u001b[1;33m,\u001b[0m \u001b[0maxis\u001b[0m\u001b[1;33m=\u001b[0m\u001b[1;36m0\u001b[0m\u001b[1;33m)\u001b[0m\u001b[1;33m\u001b[0m\u001b[0m\n\u001b[0m\u001b[0;32m   1329\u001b[0m \u001b[1;33m\u001b[0m\u001b[0m\n\u001b[0;32m   1330\u001b[0m     \u001b[1;32mdef\u001b[0m \u001b[0m_is_scalar_access\u001b[0m\u001b[1;33m(\u001b[0m\u001b[0mself\u001b[0m\u001b[1;33m,\u001b[0m \u001b[0mkey\u001b[0m\u001b[1;33m)\u001b[0m\u001b[1;33m:\u001b[0m\u001b[1;33m\u001b[0m\u001b[0m\n",
      "\u001b[1;32mC:\\ProgramData\\Anaconda3\\lib\\site-packages\\pandas\\core\\indexing.py\u001b[0m in \u001b[0;36m_getitem_axis\u001b[1;34m(self, key, axis)\u001b[0m\n\u001b[0;32m   1747\u001b[0m \u001b[1;33m\u001b[0m\u001b[0m\n\u001b[0;32m   1748\u001b[0m             \u001b[1;31m# validate the location\u001b[0m\u001b[1;33m\u001b[0m\u001b[1;33m\u001b[0m\u001b[0m\n\u001b[1;32m-> 1749\u001b[1;33m             \u001b[0mself\u001b[0m\u001b[1;33m.\u001b[0m\u001b[0m_is_valid_integer\u001b[0m\u001b[1;33m(\u001b[0m\u001b[0mkey\u001b[0m\u001b[1;33m,\u001b[0m \u001b[0maxis\u001b[0m\u001b[1;33m)\u001b[0m\u001b[1;33m\u001b[0m\u001b[0m\n\u001b[0m\u001b[0;32m   1750\u001b[0m \u001b[1;33m\u001b[0m\u001b[0m\n\u001b[0;32m   1751\u001b[0m             \u001b[1;32mreturn\u001b[0m \u001b[0mself\u001b[0m\u001b[1;33m.\u001b[0m\u001b[0m_get_loc\u001b[0m\u001b[1;33m(\u001b[0m\u001b[0mkey\u001b[0m\u001b[1;33m,\u001b[0m \u001b[0maxis\u001b[0m\u001b[1;33m=\u001b[0m\u001b[0maxis\u001b[0m\u001b[1;33m)\u001b[0m\u001b[1;33m\u001b[0m\u001b[0m\n",
      "\u001b[1;32mC:\\ProgramData\\Anaconda3\\lib\\site-packages\\pandas\\core\\indexing.py\u001b[0m in \u001b[0;36m_is_valid_integer\u001b[1;34m(self, key, axis)\u001b[0m\n\u001b[0;32m   1636\u001b[0m         \u001b[0ml\u001b[0m \u001b[1;33m=\u001b[0m \u001b[0mlen\u001b[0m\u001b[1;33m(\u001b[0m\u001b[0max\u001b[0m\u001b[1;33m)\u001b[0m\u001b[1;33m\u001b[0m\u001b[0m\n\u001b[0;32m   1637\u001b[0m         \u001b[1;32mif\u001b[0m \u001b[0mkey\u001b[0m \u001b[1;33m>=\u001b[0m \u001b[0ml\u001b[0m \u001b[1;32mor\u001b[0m \u001b[0mkey\u001b[0m \u001b[1;33m<\u001b[0m \u001b[1;33m-\u001b[0m\u001b[0ml\u001b[0m\u001b[1;33m:\u001b[0m\u001b[1;33m\u001b[0m\u001b[0m\n\u001b[1;32m-> 1638\u001b[1;33m             \u001b[1;32mraise\u001b[0m \u001b[0mIndexError\u001b[0m\u001b[1;33m(\u001b[0m\u001b[1;34m\"single positional indexer is out-of-bounds\"\u001b[0m\u001b[1;33m)\u001b[0m\u001b[1;33m\u001b[0m\u001b[0m\n\u001b[0m\u001b[0;32m   1639\u001b[0m         \u001b[1;32mreturn\u001b[0m \u001b[1;32mTrue\u001b[0m\u001b[1;33m\u001b[0m\u001b[0m\n\u001b[0;32m   1640\u001b[0m \u001b[1;33m\u001b[0m\u001b[0m\n",
      "\u001b[1;31mIndexError\u001b[0m: single positional indexer is out-of-bounds"
     ]
    }
   ],
   "source": [
    "table = pd.read_csv(\"./earthengine_tables/LC8_SR.csv\")\n",
    "time_start = table[['system:index', 'system:time_start']]\n",
    "ts = time_start[time_start['system:index'] == './earthengine_images/LC80920862016132.tif'.split('.')[0]]['system:time_start'].iloc[0]"
   ]
  },
  {
   "cell_type": "code",
   "execution_count": 18,
   "metadata": {},
   "outputs": [
    {
     "data": {
      "text/html": [
       "<div>\n",
       "<style>\n",
       "    .dataframe thead tr:only-child th {\n",
       "        text-align: right;\n",
       "    }\n",
       "\n",
       "    .dataframe thead th {\n",
       "        text-align: left;\n",
       "    }\n",
       "\n",
       "    .dataframe tbody tr th {\n",
       "        vertical-align: top;\n",
       "    }\n",
       "</style>\n",
       "<table border=\"1\" class=\"dataframe\">\n",
       "  <thead>\n",
       "    <tr style=\"text-align: right;\">\n",
       "      <th></th>\n",
       "      <th>system:index</th>\n",
       "      <th>system:time_start</th>\n",
       "    </tr>\n",
       "  </thead>\n",
       "  <tbody>\n",
       "    <tr>\n",
       "      <th>0</th>\n",
       "      <td>LC80920862016132</td>\n",
       "      <td>1462924980232</td>\n",
       "    </tr>\n",
       "    <tr>\n",
       "      <th>1</th>\n",
       "      <td>LC80920862016148</td>\n",
       "      <td>1464307385709</td>\n",
       "    </tr>\n",
       "    <tr>\n",
       "      <th>2</th>\n",
       "      <td>LC80920862016164</td>\n",
       "      <td>1465689789057</td>\n",
       "    </tr>\n",
       "    <tr>\n",
       "      <th>3</th>\n",
       "      <td>LC80920862016180</td>\n",
       "      <td>1467072196533</td>\n",
       "    </tr>\n",
       "    <tr>\n",
       "      <th>4</th>\n",
       "      <td>LC80920862016196</td>\n",
       "      <td>1468454604167</td>\n",
       "    </tr>\n",
       "    <tr>\n",
       "      <th>5</th>\n",
       "      <td>LC80920862016212</td>\n",
       "      <td>1469837008240</td>\n",
       "    </tr>\n",
       "    <tr>\n",
       "      <th>6</th>\n",
       "      <td>LC80920862016228</td>\n",
       "      <td>1471219411191</td>\n",
       "    </tr>\n",
       "    <tr>\n",
       "      <th>7</th>\n",
       "      <td>LC80920862016244</td>\n",
       "      <td>1472601818234</td>\n",
       "    </tr>\n",
       "    <tr>\n",
       "      <th>8</th>\n",
       "      <td>LC80920862016260</td>\n",
       "      <td>1473984221461</td>\n",
       "    </tr>\n",
       "    <tr>\n",
       "      <th>9</th>\n",
       "      <td>LC80920862016276</td>\n",
       "      <td>1475366622265</td>\n",
       "    </tr>\n",
       "    <tr>\n",
       "      <th>10</th>\n",
       "      <td>LC80920862016292</td>\n",
       "      <td>1476749027711</td>\n",
       "    </tr>\n",
       "    <tr>\n",
       "      <th>11</th>\n",
       "      <td>LC80920862016308</td>\n",
       "      <td>1478131428195</td>\n",
       "    </tr>\n",
       "    <tr>\n",
       "      <th>12</th>\n",
       "      <td>LC80920862016324</td>\n",
       "      <td>1479513827858</td>\n",
       "    </tr>\n",
       "    <tr>\n",
       "      <th>13</th>\n",
       "      <td>LC80920862016340</td>\n",
       "      <td>1480896226645</td>\n",
       "    </tr>\n",
       "    <tr>\n",
       "      <th>14</th>\n",
       "      <td>LC80920862016356</td>\n",
       "      <td>1482278621581</td>\n",
       "    </tr>\n",
       "    <tr>\n",
       "      <th>15</th>\n",
       "      <td>LC80920862017006</td>\n",
       "      <td>1483661019300</td>\n",
       "    </tr>\n",
       "    <tr>\n",
       "      <th>16</th>\n",
       "      <td>LC80920862017022</td>\n",
       "      <td>1485043414624</td>\n",
       "    </tr>\n",
       "    <tr>\n",
       "      <th>17</th>\n",
       "      <td>LC80920862017038</td>\n",
       "      <td>1486425806645</td>\n",
       "    </tr>\n",
       "    <tr>\n",
       "      <th>18</th>\n",
       "      <td>LC80920862017054</td>\n",
       "      <td>1487808201274</td>\n",
       "    </tr>\n",
       "    <tr>\n",
       "      <th>19</th>\n",
       "      <td>LC80920862017070</td>\n",
       "      <td>1489190593459</td>\n",
       "    </tr>\n",
       "    <tr>\n",
       "      <th>20</th>\n",
       "      <td>LC80930862016123</td>\n",
       "      <td>1462147755580</td>\n",
       "    </tr>\n",
       "    <tr>\n",
       "      <th>21</th>\n",
       "      <td>LC80930862016139</td>\n",
       "      <td>1463530152797</td>\n",
       "    </tr>\n",
       "    <tr>\n",
       "      <th>22</th>\n",
       "      <td>LC80930862016155</td>\n",
       "      <td>1464912558504</td>\n",
       "    </tr>\n",
       "    <tr>\n",
       "      <th>23</th>\n",
       "      <td>LC80930862016171</td>\n",
       "      <td>1466294961751</td>\n",
       "    </tr>\n",
       "    <tr>\n",
       "      <th>24</th>\n",
       "      <td>LC80930862016235</td>\n",
       "      <td>1471824585481</td>\n",
       "    </tr>\n",
       "    <tr>\n",
       "      <th>25</th>\n",
       "      <td>LC80930862016251</td>\n",
       "      <td>1473206990962</td>\n",
       "    </tr>\n",
       "    <tr>\n",
       "      <th>26</th>\n",
       "      <td>LC80930862016267</td>\n",
       "      <td>1474589392405</td>\n",
       "    </tr>\n",
       "    <tr>\n",
       "      <th>27</th>\n",
       "      <td>LC80930862016283</td>\n",
       "      <td>1475971796076</td>\n",
       "    </tr>\n",
       "    <tr>\n",
       "      <th>28</th>\n",
       "      <td>LC80930862016299</td>\n",
       "      <td>1477354199274</td>\n",
       "    </tr>\n",
       "    <tr>\n",
       "      <th>29</th>\n",
       "      <td>LC80930862016315</td>\n",
       "      <td>1478736597789</td>\n",
       "    </tr>\n",
       "    <tr>\n",
       "      <th>30</th>\n",
       "      <td>LC80930862016331</td>\n",
       "      <td>1480118998672</td>\n",
       "    </tr>\n",
       "    <tr>\n",
       "      <th>31</th>\n",
       "      <td>LC80930862016347</td>\n",
       "      <td>1481501395629</td>\n",
       "    </tr>\n",
       "    <tr>\n",
       "      <th>32</th>\n",
       "      <td>LC80930862017029</td>\n",
       "      <td>1485648582394</td>\n",
       "    </tr>\n",
       "    <tr>\n",
       "      <th>33</th>\n",
       "      <td>LC80930862017045</td>\n",
       "      <td>1487030974848</td>\n",
       "    </tr>\n",
       "    <tr>\n",
       "      <th>34</th>\n",
       "      <td>LC80930862017061</td>\n",
       "      <td>1488413369160</td>\n",
       "    </tr>\n",
       "    <tr>\n",
       "      <th>35</th>\n",
       "      <td>LC80930862017077</td>\n",
       "      <td>1489795759757</td>\n",
       "    </tr>\n",
       "  </tbody>\n",
       "</table>\n",
       "</div>"
      ],
      "text/plain": [
       "        system:index  system:time_start\n",
       "0   LC80920862016132      1462924980232\n",
       "1   LC80920862016148      1464307385709\n",
       "2   LC80920862016164      1465689789057\n",
       "3   LC80920862016180      1467072196533\n",
       "4   LC80920862016196      1468454604167\n",
       "5   LC80920862016212      1469837008240\n",
       "6   LC80920862016228      1471219411191\n",
       "7   LC80920862016244      1472601818234\n",
       "8   LC80920862016260      1473984221461\n",
       "9   LC80920862016276      1475366622265\n",
       "10  LC80920862016292      1476749027711\n",
       "11  LC80920862016308      1478131428195\n",
       "12  LC80920862016324      1479513827858\n",
       "13  LC80920862016340      1480896226645\n",
       "14  LC80920862016356      1482278621581\n",
       "15  LC80920862017006      1483661019300\n",
       "16  LC80920862017022      1485043414624\n",
       "17  LC80920862017038      1486425806645\n",
       "18  LC80920862017054      1487808201274\n",
       "19  LC80920862017070      1489190593459\n",
       "20  LC80930862016123      1462147755580\n",
       "21  LC80930862016139      1463530152797\n",
       "22  LC80930862016155      1464912558504\n",
       "23  LC80930862016171      1466294961751\n",
       "24  LC80930862016235      1471824585481\n",
       "25  LC80930862016251      1473206990962\n",
       "26  LC80930862016267      1474589392405\n",
       "27  LC80930862016283      1475971796076\n",
       "28  LC80930862016299      1477354199274\n",
       "29  LC80930862016315      1478736597789\n",
       "30  LC80930862016331      1480118998672\n",
       "31  LC80930862016347      1481501395629\n",
       "32  LC80930862017029      1485648582394\n",
       "33  LC80930862017045      1487030974848\n",
       "34  LC80930862017061      1488413369160\n",
       "35  LC80930862017077      1489795759757"
      ]
     },
     "execution_count": 18,
     "metadata": {},
     "output_type": "execute_result"
    }
   ],
   "source": [
    "time_start"
   ]
  },
  {
   "cell_type": "code",
   "execution_count": null,
   "metadata": {
    "collapsed": true
   },
   "outputs": [],
   "source": []
  }
 ],
 "metadata": {
  "kernelspec": {
   "display_name": "Python 3",
   "language": "python",
   "name": "python3"
  },
  "language_info": {
   "codemirror_mode": {
    "name": "ipython",
    "version": 3
   },
   "file_extension": ".py",
   "mimetype": "text/x-python",
   "name": "python",
   "nbconvert_exporter": "python",
   "pygments_lexer": "ipython3",
   "version": "3.6.3"
  }
 },
 "nbformat": 4,
 "nbformat_minor": 2
}
